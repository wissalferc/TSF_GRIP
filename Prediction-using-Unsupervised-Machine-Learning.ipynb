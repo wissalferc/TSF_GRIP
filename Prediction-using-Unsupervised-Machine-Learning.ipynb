{
  "nbformat": 4,
  "nbformat_minor": 0,
  "metadata": {
    "colab": {
      "name": "Task 2 .ipynb",
      "provenance": [],
      "collapsed_sections": [],
      "authorship_tag": "ABX9TyPEmKqWVmltUV8I75T4yool",
      "include_colab_link": true
    },
    "kernelspec": {
      "name": "python3",
      "display_name": "Python 3"
    },
    "language_info": {
      "name": "python"
    }
  },
  "cells": [
    {
      "cell_type": "markdown",
      "metadata": {
        "id": "view-in-github",
        "colab_type": "text"
      },
      "source": [
        "<a href=\"https://colab.research.google.com/github/wissalferc/TSF_GRIP/blob/main/Prediction-using-Unsupervised-Machine-Learning.ipynb\" target=\"_parent\"><img src=\"https://colab.research.google.com/assets/colab-badge.svg\" alt=\"Open In Colab\"/></a>"
      ]
    },
    {
      "cell_type": "markdown",
      "source": [
        "# GRIP - The Sparks Foundation\n",
        "\n",
        "![1519895156650.jpg](data:image/jpeg;base64,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)\n",
        "# Data Science and Business Analytics Intern\n",
        "\n",
        "## Task 2 : Prediction using Unsupervised Machine Learning.\n",
        "\n",
        "### Name : Wissal Ferchichi"
      ],
      "metadata": {
        "id": "f5ICK5_Yn8Tu"
      }
    },
    {
      "cell_type": "markdown",
      "source": [
        "#Importing the Libraries and the Data"
      ],
      "metadata": {
        "id": "qkViq6kXoOq0"
      }
    },
    {
      "cell_type": "code",
      "source": [
        "import numpy as np\n",
        "import matplotlib.pyplot as plt\n",
        "import pandas as pd\n",
        "from sklearn import datasets\n",
        "from sklearn.cluster import KMeans\n",
        "%matplotlib inline"
      ],
      "metadata": {
        "id": "VXrKNsKDoDgN"
      },
      "execution_count": null,
      "outputs": []
    },
    {
      "cell_type": "code",
      "source": [
        "iris = datasets.load_iris()\n",
        "iris_df = pd.DataFrame(iris.data, columns = iris.feature_names)\n"
      ],
      "metadata": {
        "id": "9Xg9_9N9ojXO"
      },
      "execution_count": null,
      "outputs": []
    },
    {
      "cell_type": "code",
      "source": [
        "iris_df.head()"
      ],
      "metadata": {
        "colab": {
          "base_uri": "https://localhost:8080/",
          "height": 206
        },
        "id": "c-_I44-WuIx9",
        "outputId": "5d878bf0-ae2a-439a-90f4-80d9746003bd"
      },
      "execution_count": null,
      "outputs": [
        {
          "output_type": "execute_result",
          "data": {
            "text/plain": [
              "   sepal length (cm)  sepal width (cm)  petal length (cm)  petal width (cm)\n",
              "0                5.1               3.5                1.4               0.2\n",
              "1                4.9               3.0                1.4               0.2\n",
              "2                4.7               3.2                1.3               0.2\n",
              "3                4.6               3.1                1.5               0.2\n",
              "4                5.0               3.6                1.4               0.2"
            ],
            "text/html": [
              "\n",
              "  <div id=\"df-60a9db93-3fe6-4df8-9d32-71d323e432e7\">\n",
              "    <div class=\"colab-df-container\">\n",
              "      <div>\n",
              "<style scoped>\n",
              "    .dataframe tbody tr th:only-of-type {\n",
              "        vertical-align: middle;\n",
              "    }\n",
              "\n",
              "    .dataframe tbody tr th {\n",
              "        vertical-align: top;\n",
              "    }\n",
              "\n",
              "    .dataframe thead th {\n",
              "        text-align: right;\n",
              "    }\n",
              "</style>\n",
              "<table border=\"1\" class=\"dataframe\">\n",
              "  <thead>\n",
              "    <tr style=\"text-align: right;\">\n",
              "      <th></th>\n",
              "      <th>sepal length (cm)</th>\n",
              "      <th>sepal width (cm)</th>\n",
              "      <th>petal length (cm)</th>\n",
              "      <th>petal width (cm)</th>\n",
              "    </tr>\n",
              "  </thead>\n",
              "  <tbody>\n",
              "    <tr>\n",
              "      <th>0</th>\n",
              "      <td>5.1</td>\n",
              "      <td>3.5</td>\n",
              "      <td>1.4</td>\n",
              "      <td>0.2</td>\n",
              "    </tr>\n",
              "    <tr>\n",
              "      <th>1</th>\n",
              "      <td>4.9</td>\n",
              "      <td>3.0</td>\n",
              "      <td>1.4</td>\n",
              "      <td>0.2</td>\n",
              "    </tr>\n",
              "    <tr>\n",
              "      <th>2</th>\n",
              "      <td>4.7</td>\n",
              "      <td>3.2</td>\n",
              "      <td>1.3</td>\n",
              "      <td>0.2</td>\n",
              "    </tr>\n",
              "    <tr>\n",
              "      <th>3</th>\n",
              "      <td>4.6</td>\n",
              "      <td>3.1</td>\n",
              "      <td>1.5</td>\n",
              "      <td>0.2</td>\n",
              "    </tr>\n",
              "    <tr>\n",
              "      <th>4</th>\n",
              "      <td>5.0</td>\n",
              "      <td>3.6</td>\n",
              "      <td>1.4</td>\n",
              "      <td>0.2</td>\n",
              "    </tr>\n",
              "  </tbody>\n",
              "</table>\n",
              "</div>\n",
              "      <button class=\"colab-df-convert\" onclick=\"convertToInteractive('df-60a9db93-3fe6-4df8-9d32-71d323e432e7')\"\n",
              "              title=\"Convert this dataframe to an interactive table.\"\n",
              "              style=\"display:none;\">\n",
              "        \n",
              "  <svg xmlns=\"http://www.w3.org/2000/svg\" height=\"24px\"viewBox=\"0 0 24 24\"\n",
              "       width=\"24px\">\n",
              "    <path d=\"M0 0h24v24H0V0z\" fill=\"none\"/>\n",
              "    <path d=\"M18.56 5.44l.94 2.06.94-2.06 2.06-.94-2.06-.94-.94-2.06-.94 2.06-2.06.94zm-11 1L8.5 8.5l.94-2.06 2.06-.94-2.06-.94L8.5 2.5l-.94 2.06-2.06.94zm10 10l.94 2.06.94-2.06 2.06-.94-2.06-.94-.94-2.06-.94 2.06-2.06.94z\"/><path d=\"M17.41 7.96l-1.37-1.37c-.4-.4-.92-.59-1.43-.59-.52 0-1.04.2-1.43.59L10.3 9.45l-7.72 7.72c-.78.78-.78 2.05 0 2.83L4 21.41c.39.39.9.59 1.41.59.51 0 1.02-.2 1.41-.59l7.78-7.78 2.81-2.81c.8-.78.8-2.07 0-2.86zM5.41 20L4 18.59l7.72-7.72 1.47 1.35L5.41 20z\"/>\n",
              "  </svg>\n",
              "      </button>\n",
              "      \n",
              "  <style>\n",
              "    .colab-df-container {\n",
              "      display:flex;\n",
              "      flex-wrap:wrap;\n",
              "      gap: 12px;\n",
              "    }\n",
              "\n",
              "    .colab-df-convert {\n",
              "      background-color: #E8F0FE;\n",
              "      border: none;\n",
              "      border-radius: 50%;\n",
              "      cursor: pointer;\n",
              "      display: none;\n",
              "      fill: #1967D2;\n",
              "      height: 32px;\n",
              "      padding: 0 0 0 0;\n",
              "      width: 32px;\n",
              "    }\n",
              "\n",
              "    .colab-df-convert:hover {\n",
              "      background-color: #E2EBFA;\n",
              "      box-shadow: 0px 1px 2px rgba(60, 64, 67, 0.3), 0px 1px 3px 1px rgba(60, 64, 67, 0.15);\n",
              "      fill: #174EA6;\n",
              "    }\n",
              "\n",
              "    [theme=dark] .colab-df-convert {\n",
              "      background-color: #3B4455;\n",
              "      fill: #D2E3FC;\n",
              "    }\n",
              "\n",
              "    [theme=dark] .colab-df-convert:hover {\n",
              "      background-color: #434B5C;\n",
              "      box-shadow: 0px 1px 3px 1px rgba(0, 0, 0, 0.15);\n",
              "      filter: drop-shadow(0px 1px 2px rgba(0, 0, 0, 0.3));\n",
              "      fill: #FFFFFF;\n",
              "    }\n",
              "  </style>\n",
              "\n",
              "      <script>\n",
              "        const buttonEl =\n",
              "          document.querySelector('#df-60a9db93-3fe6-4df8-9d32-71d323e432e7 button.colab-df-convert');\n",
              "        buttonEl.style.display =\n",
              "          google.colab.kernel.accessAllowed ? 'block' : 'none';\n",
              "\n",
              "        async function convertToInteractive(key) {\n",
              "          const element = document.querySelector('#df-60a9db93-3fe6-4df8-9d32-71d323e432e7');\n",
              "          const dataTable =\n",
              "            await google.colab.kernel.invokeFunction('convertToInteractive',\n",
              "                                                     [key], {});\n",
              "          if (!dataTable) return;\n",
              "\n",
              "          const docLinkHtml = 'Like what you see? Visit the ' +\n",
              "            '<a target=\"_blank\" href=https://colab.research.google.com/notebooks/data_table.ipynb>data table notebook</a>'\n",
              "            + ' to learn more about interactive tables.';\n",
              "          element.innerHTML = '';\n",
              "          dataTable['output_type'] = 'display_data';\n",
              "          await google.colab.output.renderOutput(dataTable, element);\n",
              "          const docLink = document.createElement('div');\n",
              "          docLink.innerHTML = docLinkHtml;\n",
              "          element.appendChild(docLink);\n",
              "        }\n",
              "      </script>\n",
              "    </div>\n",
              "  </div>\n",
              "  "
            ]
          },
          "metadata": {},
          "execution_count": 74
        }
      ]
    },
    {
      "cell_type": "code",
      "source": [
        "iris_df.shape"
      ],
      "metadata": {
        "colab": {
          "base_uri": "https://localhost:8080/"
        },
        "id": "5FavIuxNo4wN",
        "outputId": "53b1691f-9fe7-4b8b-dfc1-62fc799a36d4"
      },
      "execution_count": null,
      "outputs": [
        {
          "output_type": "execute_result",
          "data": {
            "text/plain": [
              "(150, 4)"
            ]
          },
          "metadata": {},
          "execution_count": 75
        }
      ]
    },
    {
      "cell_type": "code",
      "source": [
        "iris_df.tail()"
      ],
      "metadata": {
        "colab": {
          "base_uri": "https://localhost:8080/",
          "height": 206
        },
        "id": "98AN6WLkuDNM",
        "outputId": "3299c513-8cf4-463e-8623-922c6250cc82"
      },
      "execution_count": null,
      "outputs": [
        {
          "output_type": "execute_result",
          "data": {
            "text/plain": [
              "     sepal length (cm)  sepal width (cm)  petal length (cm)  petal width (cm)\n",
              "145                6.7               3.0                5.2               2.3\n",
              "146                6.3               2.5                5.0               1.9\n",
              "147                6.5               3.0                5.2               2.0\n",
              "148                6.2               3.4                5.4               2.3\n",
              "149                5.9               3.0                5.1               1.8"
            ],
            "text/html": [
              "\n",
              "  <div id=\"df-c8cb5aec-7437-4f87-a550-91028c0915f0\">\n",
              "    <div class=\"colab-df-container\">\n",
              "      <div>\n",
              "<style scoped>\n",
              "    .dataframe tbody tr th:only-of-type {\n",
              "        vertical-align: middle;\n",
              "    }\n",
              "\n",
              "    .dataframe tbody tr th {\n",
              "        vertical-align: top;\n",
              "    }\n",
              "\n",
              "    .dataframe thead th {\n",
              "        text-align: right;\n",
              "    }\n",
              "</style>\n",
              "<table border=\"1\" class=\"dataframe\">\n",
              "  <thead>\n",
              "    <tr style=\"text-align: right;\">\n",
              "      <th></th>\n",
              "      <th>sepal length (cm)</th>\n",
              "      <th>sepal width (cm)</th>\n",
              "      <th>petal length (cm)</th>\n",
              "      <th>petal width (cm)</th>\n",
              "    </tr>\n",
              "  </thead>\n",
              "  <tbody>\n",
              "    <tr>\n",
              "      <th>145</th>\n",
              "      <td>6.7</td>\n",
              "      <td>3.0</td>\n",
              "      <td>5.2</td>\n",
              "      <td>2.3</td>\n",
              "    </tr>\n",
              "    <tr>\n",
              "      <th>146</th>\n",
              "      <td>6.3</td>\n",
              "      <td>2.5</td>\n",
              "      <td>5.0</td>\n",
              "      <td>1.9</td>\n",
              "    </tr>\n",
              "    <tr>\n",
              "      <th>147</th>\n",
              "      <td>6.5</td>\n",
              "      <td>3.0</td>\n",
              "      <td>5.2</td>\n",
              "      <td>2.0</td>\n",
              "    </tr>\n",
              "    <tr>\n",
              "      <th>148</th>\n",
              "      <td>6.2</td>\n",
              "      <td>3.4</td>\n",
              "      <td>5.4</td>\n",
              "      <td>2.3</td>\n",
              "    </tr>\n",
              "    <tr>\n",
              "      <th>149</th>\n",
              "      <td>5.9</td>\n",
              "      <td>3.0</td>\n",
              "      <td>5.1</td>\n",
              "      <td>1.8</td>\n",
              "    </tr>\n",
              "  </tbody>\n",
              "</table>\n",
              "</div>\n",
              "      <button class=\"colab-df-convert\" onclick=\"convertToInteractive('df-c8cb5aec-7437-4f87-a550-91028c0915f0')\"\n",
              "              title=\"Convert this dataframe to an interactive table.\"\n",
              "              style=\"display:none;\">\n",
              "        \n",
              "  <svg xmlns=\"http://www.w3.org/2000/svg\" height=\"24px\"viewBox=\"0 0 24 24\"\n",
              "       width=\"24px\">\n",
              "    <path d=\"M0 0h24v24H0V0z\" fill=\"none\"/>\n",
              "    <path d=\"M18.56 5.44l.94 2.06.94-2.06 2.06-.94-2.06-.94-.94-2.06-.94 2.06-2.06.94zm-11 1L8.5 8.5l.94-2.06 2.06-.94-2.06-.94L8.5 2.5l-.94 2.06-2.06.94zm10 10l.94 2.06.94-2.06 2.06-.94-2.06-.94-.94-2.06-.94 2.06-2.06.94z\"/><path d=\"M17.41 7.96l-1.37-1.37c-.4-.4-.92-.59-1.43-.59-.52 0-1.04.2-1.43.59L10.3 9.45l-7.72 7.72c-.78.78-.78 2.05 0 2.83L4 21.41c.39.39.9.59 1.41.59.51 0 1.02-.2 1.41-.59l7.78-7.78 2.81-2.81c.8-.78.8-2.07 0-2.86zM5.41 20L4 18.59l7.72-7.72 1.47 1.35L5.41 20z\"/>\n",
              "  </svg>\n",
              "      </button>\n",
              "      \n",
              "  <style>\n",
              "    .colab-df-container {\n",
              "      display:flex;\n",
              "      flex-wrap:wrap;\n",
              "      gap: 12px;\n",
              "    }\n",
              "\n",
              "    .colab-df-convert {\n",
              "      background-color: #E8F0FE;\n",
              "      border: none;\n",
              "      border-radius: 50%;\n",
              "      cursor: pointer;\n",
              "      display: none;\n",
              "      fill: #1967D2;\n",
              "      height: 32px;\n",
              "      padding: 0 0 0 0;\n",
              "      width: 32px;\n",
              "    }\n",
              "\n",
              "    .colab-df-convert:hover {\n",
              "      background-color: #E2EBFA;\n",
              "      box-shadow: 0px 1px 2px rgba(60, 64, 67, 0.3), 0px 1px 3px 1px rgba(60, 64, 67, 0.15);\n",
              "      fill: #174EA6;\n",
              "    }\n",
              "\n",
              "    [theme=dark] .colab-df-convert {\n",
              "      background-color: #3B4455;\n",
              "      fill: #D2E3FC;\n",
              "    }\n",
              "\n",
              "    [theme=dark] .colab-df-convert:hover {\n",
              "      background-color: #434B5C;\n",
              "      box-shadow: 0px 1px 3px 1px rgba(0, 0, 0, 0.15);\n",
              "      filter: drop-shadow(0px 1px 2px rgba(0, 0, 0, 0.3));\n",
              "      fill: #FFFFFF;\n",
              "    }\n",
              "  </style>\n",
              "\n",
              "      <script>\n",
              "        const buttonEl =\n",
              "          document.querySelector('#df-c8cb5aec-7437-4f87-a550-91028c0915f0 button.colab-df-convert');\n",
              "        buttonEl.style.display =\n",
              "          google.colab.kernel.accessAllowed ? 'block' : 'none';\n",
              "\n",
              "        async function convertToInteractive(key) {\n",
              "          const element = document.querySelector('#df-c8cb5aec-7437-4f87-a550-91028c0915f0');\n",
              "          const dataTable =\n",
              "            await google.colab.kernel.invokeFunction('convertToInteractive',\n",
              "                                                     [key], {});\n",
              "          if (!dataTable) return;\n",
              "\n",
              "          const docLinkHtml = 'Like what you see? Visit the ' +\n",
              "            '<a target=\"_blank\" href=https://colab.research.google.com/notebooks/data_table.ipynb>data table notebook</a>'\n",
              "            + ' to learn more about interactive tables.';\n",
              "          element.innerHTML = '';\n",
              "          dataTable['output_type'] = 'display_data';\n",
              "          await google.colab.output.renderOutput(dataTable, element);\n",
              "          const docLink = document.createElement('div');\n",
              "          docLink.innerHTML = docLinkHtml;\n",
              "          element.appendChild(docLink);\n",
              "        }\n",
              "      </script>\n",
              "    </div>\n",
              "  </div>\n",
              "  "
            ]
          },
          "metadata": {},
          "execution_count": 76
        }
      ]
    },
    {
      "cell_type": "code",
      "source": [
        "iris_df.info()"
      ],
      "metadata": {
        "colab": {
          "base_uri": "https://localhost:8080/"
        },
        "id": "BbvVE-cAuNhs",
        "outputId": "9be626a0-3e48-4e65-8b24-6d5a98fb858f"
      },
      "execution_count": null,
      "outputs": [
        {
          "output_type": "stream",
          "name": "stdout",
          "text": [
            "<class 'pandas.core.frame.DataFrame'>\n",
            "RangeIndex: 150 entries, 0 to 149\n",
            "Data columns (total 4 columns):\n",
            " #   Column             Non-Null Count  Dtype  \n",
            "---  ------             --------------  -----  \n",
            " 0   sepal length (cm)  150 non-null    float64\n",
            " 1   sepal width (cm)   150 non-null    float64\n",
            " 2   petal length (cm)  150 non-null    float64\n",
            " 3   petal width (cm)   150 non-null    float64\n",
            "dtypes: float64(4)\n",
            "memory usage: 4.8 KB\n"
          ]
        }
      ]
    },
    {
      "cell_type": "code",
      "source": [
        "iris_df.describe()"
      ],
      "metadata": {
        "colab": {
          "base_uri": "https://localhost:8080/",
          "height": 300
        },
        "id": "FEGHWsDluR6s",
        "outputId": "f90f296e-dbfd-4529-c606-cedd8f973bd4"
      },
      "execution_count": null,
      "outputs": [
        {
          "output_type": "execute_result",
          "data": {
            "text/plain": [
              "       sepal length (cm)  sepal width (cm)  petal length (cm)  \\\n",
              "count         150.000000        150.000000         150.000000   \n",
              "mean            5.843333          3.057333           3.758000   \n",
              "std             0.828066          0.435866           1.765298   \n",
              "min             4.300000          2.000000           1.000000   \n",
              "25%             5.100000          2.800000           1.600000   \n",
              "50%             5.800000          3.000000           4.350000   \n",
              "75%             6.400000          3.300000           5.100000   \n",
              "max             7.900000          4.400000           6.900000   \n",
              "\n",
              "       petal width (cm)  \n",
              "count        150.000000  \n",
              "mean           1.199333  \n",
              "std            0.762238  \n",
              "min            0.100000  \n",
              "25%            0.300000  \n",
              "50%            1.300000  \n",
              "75%            1.800000  \n",
              "max            2.500000  "
            ],
            "text/html": [
              "\n",
              "  <div id=\"df-88d075b5-f223-4527-95d4-7aaa9dd915f2\">\n",
              "    <div class=\"colab-df-container\">\n",
              "      <div>\n",
              "<style scoped>\n",
              "    .dataframe tbody tr th:only-of-type {\n",
              "        vertical-align: middle;\n",
              "    }\n",
              "\n",
              "    .dataframe tbody tr th {\n",
              "        vertical-align: top;\n",
              "    }\n",
              "\n",
              "    .dataframe thead th {\n",
              "        text-align: right;\n",
              "    }\n",
              "</style>\n",
              "<table border=\"1\" class=\"dataframe\">\n",
              "  <thead>\n",
              "    <tr style=\"text-align: right;\">\n",
              "      <th></th>\n",
              "      <th>sepal length (cm)</th>\n",
              "      <th>sepal width (cm)</th>\n",
              "      <th>petal length (cm)</th>\n",
              "      <th>petal width (cm)</th>\n",
              "    </tr>\n",
              "  </thead>\n",
              "  <tbody>\n",
              "    <tr>\n",
              "      <th>count</th>\n",
              "      <td>150.000000</td>\n",
              "      <td>150.000000</td>\n",
              "      <td>150.000000</td>\n",
              "      <td>150.000000</td>\n",
              "    </tr>\n",
              "    <tr>\n",
              "      <th>mean</th>\n",
              "      <td>5.843333</td>\n",
              "      <td>3.057333</td>\n",
              "      <td>3.758000</td>\n",
              "      <td>1.199333</td>\n",
              "    </tr>\n",
              "    <tr>\n",
              "      <th>std</th>\n",
              "      <td>0.828066</td>\n",
              "      <td>0.435866</td>\n",
              "      <td>1.765298</td>\n",
              "      <td>0.762238</td>\n",
              "    </tr>\n",
              "    <tr>\n",
              "      <th>min</th>\n",
              "      <td>4.300000</td>\n",
              "      <td>2.000000</td>\n",
              "      <td>1.000000</td>\n",
              "      <td>0.100000</td>\n",
              "    </tr>\n",
              "    <tr>\n",
              "      <th>25%</th>\n",
              "      <td>5.100000</td>\n",
              "      <td>2.800000</td>\n",
              "      <td>1.600000</td>\n",
              "      <td>0.300000</td>\n",
              "    </tr>\n",
              "    <tr>\n",
              "      <th>50%</th>\n",
              "      <td>5.800000</td>\n",
              "      <td>3.000000</td>\n",
              "      <td>4.350000</td>\n",
              "      <td>1.300000</td>\n",
              "    </tr>\n",
              "    <tr>\n",
              "      <th>75%</th>\n",
              "      <td>6.400000</td>\n",
              "      <td>3.300000</td>\n",
              "      <td>5.100000</td>\n",
              "      <td>1.800000</td>\n",
              "    </tr>\n",
              "    <tr>\n",
              "      <th>max</th>\n",
              "      <td>7.900000</td>\n",
              "      <td>4.400000</td>\n",
              "      <td>6.900000</td>\n",
              "      <td>2.500000</td>\n",
              "    </tr>\n",
              "  </tbody>\n",
              "</table>\n",
              "</div>\n",
              "      <button class=\"colab-df-convert\" onclick=\"convertToInteractive('df-88d075b5-f223-4527-95d4-7aaa9dd915f2')\"\n",
              "              title=\"Convert this dataframe to an interactive table.\"\n",
              "              style=\"display:none;\">\n",
              "        \n",
              "  <svg xmlns=\"http://www.w3.org/2000/svg\" height=\"24px\"viewBox=\"0 0 24 24\"\n",
              "       width=\"24px\">\n",
              "    <path d=\"M0 0h24v24H0V0z\" fill=\"none\"/>\n",
              "    <path d=\"M18.56 5.44l.94 2.06.94-2.06 2.06-.94-2.06-.94-.94-2.06-.94 2.06-2.06.94zm-11 1L8.5 8.5l.94-2.06 2.06-.94-2.06-.94L8.5 2.5l-.94 2.06-2.06.94zm10 10l.94 2.06.94-2.06 2.06-.94-2.06-.94-.94-2.06-.94 2.06-2.06.94z\"/><path d=\"M17.41 7.96l-1.37-1.37c-.4-.4-.92-.59-1.43-.59-.52 0-1.04.2-1.43.59L10.3 9.45l-7.72 7.72c-.78.78-.78 2.05 0 2.83L4 21.41c.39.39.9.59 1.41.59.51 0 1.02-.2 1.41-.59l7.78-7.78 2.81-2.81c.8-.78.8-2.07 0-2.86zM5.41 20L4 18.59l7.72-7.72 1.47 1.35L5.41 20z\"/>\n",
              "  </svg>\n",
              "      </button>\n",
              "      \n",
              "  <style>\n",
              "    .colab-df-container {\n",
              "      display:flex;\n",
              "      flex-wrap:wrap;\n",
              "      gap: 12px;\n",
              "    }\n",
              "\n",
              "    .colab-df-convert {\n",
              "      background-color: #E8F0FE;\n",
              "      border: none;\n",
              "      border-radius: 50%;\n",
              "      cursor: pointer;\n",
              "      display: none;\n",
              "      fill: #1967D2;\n",
              "      height: 32px;\n",
              "      padding: 0 0 0 0;\n",
              "      width: 32px;\n",
              "    }\n",
              "\n",
              "    .colab-df-convert:hover {\n",
              "      background-color: #E2EBFA;\n",
              "      box-shadow: 0px 1px 2px rgba(60, 64, 67, 0.3), 0px 1px 3px 1px rgba(60, 64, 67, 0.15);\n",
              "      fill: #174EA6;\n",
              "    }\n",
              "\n",
              "    [theme=dark] .colab-df-convert {\n",
              "      background-color: #3B4455;\n",
              "      fill: #D2E3FC;\n",
              "    }\n",
              "\n",
              "    [theme=dark] .colab-df-convert:hover {\n",
              "      background-color: #434B5C;\n",
              "      box-shadow: 0px 1px 3px 1px rgba(0, 0, 0, 0.15);\n",
              "      filter: drop-shadow(0px 1px 2px rgba(0, 0, 0, 0.3));\n",
              "      fill: #FFFFFF;\n",
              "    }\n",
              "  </style>\n",
              "\n",
              "      <script>\n",
              "        const buttonEl =\n",
              "          document.querySelector('#df-88d075b5-f223-4527-95d4-7aaa9dd915f2 button.colab-df-convert');\n",
              "        buttonEl.style.display =\n",
              "          google.colab.kernel.accessAllowed ? 'block' : 'none';\n",
              "\n",
              "        async function convertToInteractive(key) {\n",
              "          const element = document.querySelector('#df-88d075b5-f223-4527-95d4-7aaa9dd915f2');\n",
              "          const dataTable =\n",
              "            await google.colab.kernel.invokeFunction('convertToInteractive',\n",
              "                                                     [key], {});\n",
              "          if (!dataTable) return;\n",
              "\n",
              "          const docLinkHtml = 'Like what you see? Visit the ' +\n",
              "            '<a target=\"_blank\" href=https://colab.research.google.com/notebooks/data_table.ipynb>data table notebook</a>'\n",
              "            + ' to learn more about interactive tables.';\n",
              "          element.innerHTML = '';\n",
              "          dataTable['output_type'] = 'display_data';\n",
              "          await google.colab.output.renderOutput(dataTable, element);\n",
              "          const docLink = document.createElement('div');\n",
              "          docLink.innerHTML = docLinkHtml;\n",
              "          element.appendChild(docLink);\n",
              "        }\n",
              "      </script>\n",
              "    </div>\n",
              "  </div>\n",
              "  "
            ]
          },
          "metadata": {},
          "execution_count": 78
        }
      ]
    },
    {
      "cell_type": "code",
      "source": [
        "iris_df.isnull().sum()"
      ],
      "metadata": {
        "colab": {
          "base_uri": "https://localhost:8080/"
        },
        "id": "4-O2PIDPuXrd",
        "outputId": "b197eda3-7b55-460d-b3cc-36408834f986"
      },
      "execution_count": null,
      "outputs": [
        {
          "output_type": "execute_result",
          "data": {
            "text/plain": [
              "sepal length (cm)    0\n",
              "sepal width (cm)     0\n",
              "petal length (cm)    0\n",
              "petal width (cm)     0\n",
              "dtype: int64"
            ]
          },
          "metadata": {},
          "execution_count": 79
        }
      ]
    },
    {
      "cell_type": "markdown",
      "source": [
        "#Data Visualization"
      ],
      "metadata": {
        "id": "27n-5Qg0upV0"
      }
    },
    {
      "cell_type": "code",
      "source": [
        "iris_df.hist()"
      ],
      "metadata": {
        "colab": {
          "base_uri": "https://localhost:8080/",
          "height": 368
        },
        "id": "hWRAOoRkuhAj",
        "outputId": "8c80c8e4-2456-495e-8bee-e7f618aacf53"
      },
      "execution_count": null,
      "outputs": [
        {
          "output_type": "execute_result",
          "data": {
            "text/plain": [
              "array([[<matplotlib.axes._subplots.AxesSubplot object at 0x7fc0a4c00c90>,\n",
              "        <matplotlib.axes._subplots.AxesSubplot object at 0x7fc0a4c68450>],\n",
              "       [<matplotlib.axes._subplots.AxesSubplot object at 0x7fc0a4ca6f10>,\n",
              "        <matplotlib.axes._subplots.AxesSubplot object at 0x7fc0a4d56610>]],\n",
              "      dtype=object)"
            ]
          },
          "metadata": {},
          "execution_count": 80
        },
        {
          "output_type": "display_data",
          "data": {
            "text/plain": [
              "<Figure size 432x288 with 4 Axes>"
            ],
            "image/png": "[encoded data removed]"
          },
          "metadata": {
            "needs_background": "light"
          }
        }
      ]
    },
    {
      "cell_type": "markdown",
      "source": [
        "#Finding the optimum number of clusters for k-means classification"
      ],
      "metadata": {
        "id": "GxvsgTScvHm8"
      }
    },
    {
      "cell_type": "code",
      "source": [
        "# Elbow Curve\n",
        "# Finding the optimum number of clusters for k-means classification\n",
        "x = iris_df.iloc[:, [0, 1, 2, 3]].values\n",
        "\n",
        "from sklearn.cluster import KMeans\n",
        "wcss = []\n",
        "\n",
        "for i in range(1, 11):\n",
        "    kmeans = KMeans(n_clusters = i, init = 'k-means++', \n",
        "                    max_iter = 300, n_init = 10, random_state = 0)\n",
        "    kmeans.fit(x)\n",
        "    wcss.append(kmeans.inertia_)"
      ],
      "metadata": {
        "id": "nQ8OAS5-xq5U"
      },
      "execution_count": null,
      "outputs": []
    },
    {
      "cell_type": "markdown",
      "source": [
        "#Plotting the results onto a line graph"
      ],
      "metadata": {
        "id": "oRD8aeZmvR31"
      }
    },
    {
      "cell_type": "code",
      "source": [
        "plt.figure(figsize=(7, 7))\n",
        "plt.plot(range(1, 11), wcss)\n",
        "plt.title('The elbow method')\n",
        "plt.xlabel('Number of clusters')\n",
        "# Within cluster sum of squares\n",
        "plt.ylabel('WCSS') \n",
        "plt.grid()\n",
        "plt.show()"
      ],
      "metadata": {
        "colab": {
          "base_uri": "https://localhost:8080/",
          "height": 458
        },
        "id": "HcNuR-gUvOC0",
        "outputId": "433ccdb3-e95a-4fbf-b003-9b12e50422b7"
      },
      "execution_count": null,
      "outputs": [
        {
          "output_type": "display_data",
          "data": {
            "text/plain": [
              "<Figure size 504x504 with 1 Axes>"
            ],
            "image/png": "[encoded data removed]"
          },
          "metadata": {
            "needs_background": "light"
          }
        }
      ]
    },
    {
      "cell_type": "markdown",
      "source": [
        "#Applying kmeans to the dataset / Creating the kmeans classifier"
      ],
      "metadata": {
        "id": "li6MBAtjvndU"
      }
    },
    {
      "cell_type": "code",
      "source": [
        "kmeans = KMeans(n_clusters = 3, init = 'k-means++',\n",
        "                max_iter = 300, n_init = 10, random_state = 0)\n",
        "y_kmeans = kmeans.fit_predict(x)\n",
        "print(y_kmeans)"
      ],
      "metadata": {
        "colab": {
          "base_uri": "https://localhost:8080/"
        },
        "id": "fbL9BKLCvmJE",
        "outputId": "a327d777-6d8d-41a9-cff8-b50afe732751"
      },
      "execution_count": null,
      "outputs": [
        {
          "output_type": "stream",
          "name": "stdout",
          "text": [
            "[1 1 1 1 1 1 1 1 1 1 1 1 1 1 1 1 1 1 1 1 1 1 1 1 1 1 1 1 1 1 1 1 1 1 1 1 1\n",
            " 1 1 1 1 1 1 1 1 1 1 1 1 1 0 0 2 0 0 0 0 0 0 0 0 0 0 0 0 0 0 0 0 0 0 0 0 0\n",
            " 0 0 0 2 0 0 0 0 0 0 0 0 0 0 0 0 0 0 0 0 0 0 0 0 0 0 2 0 2 2 2 2 0 2 2 2 2\n",
            " 2 2 0 0 2 2 2 2 0 2 0 2 0 2 2 0 0 2 2 2 2 2 0 2 2 2 2 0 2 2 2 0 2 2 2 0 2\n",
            " 2 0]\n"
          ]
        }
      ]
    },
    {
      "cell_type": "markdown",
      "source": [
        "#Visualising the clusters - On the first two columns"
      ],
      "metadata": {
        "id": "Mo9n7xEMvt08"
      }
    },
    {
      "cell_type": "code",
      "source": [
        "plt.figure(figsize=(12, 12))\n",
        "plt.scatter(x[y_kmeans == 0, 0], x[y_kmeans == 0, 1], \n",
        "            s = 100, c = 'DarkRed', label = 'Iris-setosa')\n",
        "plt.scatter(x[y_kmeans == 1, 0], x[y_kmeans == 1, 1], \n",
        "            s = 100, c = 'Chartreuse', label = 'Iris-versicolour')\n",
        "plt.scatter(x[y_kmeans == 2, 0], x[y_kmeans == 2, 1],\n",
        "            s = 100, c = 'BlueViolet', label = 'Iris-virginica')\n",
        "\n",
        "# Plotting the centroids of the clusters\n",
        "plt.scatter(kmeans.cluster_centers_[:, 0], kmeans.cluster_centers_[:,1], \n",
        "            s = 100, c = 'black', label = 'Centroids')\n",
        "plt.legend()\n",
        "plt.grid()"
      ],
      "metadata": {
        "colab": {
          "base_uri": "https://localhost:8080/",
          "height": 700
        },
        "id": "XKTZ1XOovtfl",
        "outputId": "2c2f7b60-4ef1-42f6-a11f-a0b0f3acee1c"
      },
      "execution_count": null,
      "outputs": [
        {
          "output_type": "display_data",
          "data": {
            "text/plain": [
              "<Figure size 864x864 with 1 Axes>"
            ],
            "image/png": "[encoded data removed]"
          },
          "metadata": {
            "needs_background": "light"
          }
        }
      ]
    }
  ]
}